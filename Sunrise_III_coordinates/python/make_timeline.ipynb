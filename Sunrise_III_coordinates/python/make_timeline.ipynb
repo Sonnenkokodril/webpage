{
 "cells": [
  {
   "cell_type": "code",
   "execution_count": 185,
   "metadata": {},
   "outputs": [],
   "source": [
    "import numpy as np\n",
    "import pandas as pd\n",
    "import datetime \n",
    "import math"
   ]
  },
  {
   "cell_type": "markdown",
   "metadata": {},
   "source": [
    "## \n",
    "\n"
   ]
  },
  {
   "cell_type": "markdown",
   "metadata": {},
   "source": [
    "## Tables input"
   ]
  },
  {
   "cell_type": "code",
   "execution_count": 2,
   "metadata": {},
   "outputs": [],
   "source": [
    "#Tables input\n",
    "name_block    = 'Observing_blocks.csv'\n",
    "name_modes    = 'Observing_modes.csv'\n",
    "name_timeline = 'Timeline_blocks.csv'"
   ]
  },
  {
   "cell_type": "code",
   "execution_count": 214,
   "metadata": {},
   "outputs": [],
   "source": [
    "# Read tables\n",
    "timeline = pd.read_csv(name_timeline)\n",
    "modes    = pd.read_csv(name_modes)\n",
    "blocks   = pd.read_csv(name_block)"
   ]
  },
  {
   "cell_type": "code",
   "execution_count": 213,
   "metadata": {},
   "outputs": [],
   "source": [
    "def generate_initial_tables():\n",
    "  #Define outputs\n",
    "  colunms = {'sunrise':['OBS_ID','BLOCK','START_DATE','START_TIME','END_DATE','END_TIME', 'XCEN','YCEN','OBS_MODES','ROI','COMMENT'],\n",
    "            'susi':['OBS_ID','BLOCK','Instrument','START_DATE','START_TIME','END_DATE','END_TIME', 'XCEN','YCEN','FOV','OBS_MODES','INTRUMENT_MODE','ROI','COMMENT'],\n",
    "            'scip':['OBS_ID','BLOCK','Instrument','START_DATE','START_TIME','END_DATE','END_TIME', 'XCEN','YCEN','FOV','OBS_MODES','INTRUMENT_MODE','ROI','COMMENT'],\n",
    "            'tumag':['OBS_ID','BLOCK','Instrument','START_DATE','START_TIME','END_DATE','END_TIME', 'XCEN','YCEN'      ,'OBS_MODES','INTRUMENT_MODE','ROI','COMMENT']}\n",
    "\n",
    "  Sunrise =   pd.DataFrame(columns=colunms['sunrise'])\n",
    "  Susi    =   pd.DataFrame(columns=colunms['susi'])\n",
    "  Scip    =   pd.DataFrame(columns=colunms['scip'])\n",
    "  TuMag   =   pd.DataFrame(columns=colunms['tumag'])\n",
    "  return Sunrise, Susi, Scip, TuMag\n"
   ]
  },
  {
   "cell_type": "code",
   "execution_count": 219,
   "metadata": {},
   "outputs": [],
   "source": [
    "def add_var(ll,obs_mode,modes,timeline,current_time,Slit_inst,name):  \n",
    "  #print('-----> ',name)\n",
    "  var_slit = list(timeline.loc[ll,['OBS_ID','BLOCK','BLOCK','START_DATE','START_TIME','END_DATE','END_TIME','X_TUMAG','Y_TUMAG']])\n",
    "  var_slit[Slit_inst.columns.get_loc('Instrument')] =name\n",
    "  \n",
    "  if name != 'TUMAG': \n",
    "    var_slit[Slit_inst.columns.get_loc('XCEN')]=float(var_slit[Slit_inst.columns.get_loc('XCEN')])+float(timeline.loc[ll,'X_OFF_{}'.format(name)])\n",
    "    fov = modes['{}_FOV'.format(name)].loc[np.where(modes['OBSERVING_MODE'] == obs_mode)[0][0]]\n",
    "    if math.isnan(fov): fov='-'\n",
    "    var_slit.append(fov)\n",
    "\n",
    "  var_slit.append(obs_mode)\n",
    "  var_slit.append(modes['{}_MODE'.format(name)].loc[np.where(modes['OBSERVING_MODE'] == obs_mode)[0][0]])\n",
    "  var_slit.append(modes['Target'].loc[np.where(modes['OBSERVING_MODE'] == obs_mode)[0][0]])\n",
    "  var_slit.append(timeline.loc[ll,['COMMENT']][0])\n",
    "\n",
    "  ### UPDATE START TIMES\n",
    "  var_slit[Slit_inst.columns.get_loc('START_DATE')]=datetime.datetime.strftime(current_time,\"%d/%m/%Y\")\n",
    "  var_slit[Slit_inst.columns.get_loc('START_TIME')]=datetime.datetime.strftime(current_time,\"%H:%M:%S\")\n",
    "\n",
    "  # add the duration of the obs \n",
    "  delta_min=modes['{}_DURATION'.format(name)].loc[np.where(modes['OBSERVING_MODE'] == obs_mode)[0][0]]\n",
    "  if math.isnan(delta_min): delta_min=0\n",
    "  delta_time = datetime.timedelta(minutes=delta_min)\n",
    "  current_time=current_time+delta_time\n",
    "\n",
    "  var_slit[Slit_inst.columns.get_loc('END_DATE')]=datetime.datetime.strftime(current_time,\"%d/%m/%Y\")\n",
    "  var_slit[Slit_inst.columns.get_loc('END_TIME')]=datetime.datetime.strftime(current_time,\"%H:%M:%S\")\n",
    "  #print(var_slit)\n",
    "  #print('SIZE ===>',name, \" : \",np.shape(var_slit)[0],' --',Slit_inst.shape)\n",
    "  Slit_inst.loc[len(Slit_inst)]=var_slit\n",
    "  \n",
    "  return Slit_inst,current_time\n"
   ]
  },
  {
   "cell_type": "code",
   "execution_count": 220,
   "metadata": {},
   "outputs": [
    {
     "name": "stdout",
     "output_type": "stream",
     "text": [
      "CAL0\n",
      "QS1\n",
      "QS2\n",
      "QS4a\n",
      "QS4b\n",
      "QS8\n",
      "CAL1\n",
      "QS6\n",
      "QS3\n",
      "QS5a\n",
      "CAL1\n",
      "QS5b\n",
      "QS7c\n",
      "CAL1\n",
      "FS1\n",
      "CAL1\n",
      "FS2\n",
      "CAL0\n",
      "AR1\n",
      "AR2\n",
      "CAL1\n",
      "AR5a\n",
      "AR5b\n",
      "AR3\n",
      "CAL1\n",
      "AR4c\n",
      "AR4b\n",
      "AR4a\n",
      "CAL1\n",
      "SP1\n",
      "SP2\n",
      "SP4a\n",
      "SP4b\n",
      "CAL1\n",
      "SP3\n",
      "SP8\n",
      "CAL1\n",
      "SP3\n",
      "SP8\n",
      "CAL1\n",
      "SP3\n",
      "SP8\n",
      "CAL1\n",
      "SP7a\n",
      "SP7b\n",
      "CAL1\n",
      "SP6\n",
      "CAL0\n",
      "AR6a\n",
      "AR6b\n",
      "AR6c\n",
      "CAL1\n",
      "AR7\n",
      "CAL1\n",
      "PL1\n",
      "PL4\n",
      "PL5\n",
      "CAL1\n",
      "PL2\n",
      "PL3\n",
      "CAL1\n",
      "EW1\n",
      "EW2\n",
      "EW3\n",
      "CAL1\n",
      "CH1\n",
      "CH2\n",
      "CH3\n",
      "CAL0\n",
      "Flare1\n",
      "CAL1\n",
      "QS1\n",
      "QS2\n",
      "QS4a\n",
      "QS4b\n",
      "QS8\n",
      "CAL1\n",
      "QS6\n",
      "QS3\n",
      "QS5a\n",
      "CAL1\n",
      "QS5b\n",
      "QS7c\n"
     ]
    }
   ],
   "source": [
    "# Generate tables\n",
    "\n",
    "Sunrise, Susi, Scip, TuMag = generate_initial_tables()\n",
    "\n",
    "\n",
    "for ll in range(timeline.shape[0]):\n",
    "  #Time variables to control the times for each obs mode\n",
    "  s_time=np.array(timeline.loc[ll,['START_DATE','START_TIME']])\n",
    "  current_time= datetime.datetime(year=int(s_time[0][6:]),month=int(s_time[0][3:5]),day=int(s_time[0][0:2]),\n",
    "          hour=int(s_time[1][:2]),minute=int(s_time[1][3:5]),second=int(s_time[1][6:]))\n",
    "\n",
    "\n",
    "  #Find the block\n",
    "  loc_block=np.where(blocks['BLOCK'] == timeline['BLOCK'][ll])[0][0]\n",
    "\n",
    "  n_mode_loc=blocks.columns.get_loc('OBS1')\n",
    "  tmp_obs,tmp_target=[],[]\n",
    "\n",
    "    # Other instruments\n",
    "\n",
    "\n",
    "  for j in range(n_mode_loc,n_mode_loc+blocks.loc[loc_block][2]):\n",
    "    obs_mode =blocks.loc[loc_block][j]\n",
    "    \n",
    "    if obs_mode != 'NAN':\n",
    "      print(obs_mode)\n",
    "      tmp_obs.append(obs_mode)\n",
    "\n",
    "\n",
    "      Susi, current_time= add_var(ll,obs_mode,modes,timeline,current_time,Susi,'SUSI')\n",
    "      Scip, current_tmp= add_var(ll,obs_mode,modes,timeline,current_time,Scip,'SCIP')\n",
    "      TuMag, current_tmp= add_var(ll,obs_mode,modes,timeline,current_time,TuMag,'TUMAG')\n",
    "      \n",
    "\n",
    "\n",
    "  # General coords\n",
    "  var = list(timeline.loc[ll,['OBS_ID','BLOCK','START_DATE','START_TIME','END_DATE','END_TIME','X_TUMAG','Y_TUMAG']])\n",
    "  var.append(', '.join(map(str, tmp_obs)))\n",
    "  var.append(modes['Target'].loc[np.where(modes['OBSERVING_MODE'] == obs_mode)[0][0]])\n",
    "  var.append(timeline.loc[ll,['COMMENT']][0])\n",
    "  Sunrise.loc[len(Sunrise)]=var\n",
    "\n",
    "Sunrise.to_csv('Timeline_MAIN_page.csv')\n",
    "Susi.to_csv('Timeline_SUSI_page.csv')\n",
    "Scip.to_csv('Timeline_SCIP_page.csv')\n",
    "TuMag.to_csv('Timeline_TUMAG_page.csv')\n",
    "\n"
   ]
  },
  {
   "cell_type": "code",
   "execution_count": 203,
   "metadata": {},
   "outputs": [
    {
     "data": {
      "text/html": [
       "<div>\n",
       "<style scoped>\n",
       "    .dataframe tbody tr th:only-of-type {\n",
       "        vertical-align: middle;\n",
       "    }\n",
       "\n",
       "    .dataframe tbody tr th {\n",
       "        vertical-align: top;\n",
       "    }\n",
       "\n",
       "    .dataframe thead th {\n",
       "        text-align: right;\n",
       "    }\n",
       "</style>\n",
       "<table border=\"1\" class=\"dataframe\">\n",
       "  <thead>\n",
       "    <tr style=\"text-align: right;\">\n",
       "      <th></th>\n",
       "      <th>OBS_ID</th>\n",
       "      <th>BLOCK</th>\n",
       "      <th>START_DATE</th>\n",
       "      <th>START_TIME</th>\n",
       "      <th>END_DATE</th>\n",
       "      <th>END_TIME</th>\n",
       "      <th>XCEN</th>\n",
       "      <th>YCEN</th>\n",
       "      <th>OBS_MODES</th>\n",
       "      <th>ROI</th>\n",
       "    </tr>\n",
       "  </thead>\n",
       "  <tbody>\n",
       "    <tr>\n",
       "      <th>0</th>\n",
       "      <td>OB_09052022_001000</td>\n",
       "      <td>CALIB_0</td>\n",
       "      <td>09/05/2022</td>\n",
       "      <td>10:00:00</td>\n",
       "      <td>09/05/2022</td>\n",
       "      <td>16:00:00</td>\n",
       "      <td>NaN</td>\n",
       "      <td>NaN</td>\n",
       "      <td>CAL0</td>\n",
       "      <td>Comissioning</td>\n",
       "    </tr>\n",
       "    <tr>\n",
       "      <th>1</th>\n",
       "      <td>OB_09052022_001600</td>\n",
       "      <td>QSDC_1</td>\n",
       "      <td>09/05/2022</td>\n",
       "      <td>16:05:00</td>\n",
       "      <td>09/05/2022</td>\n",
       "      <td>22:09:00</td>\n",
       "      <td>-90.0</td>\n",
       "      <td>-245.0</td>\n",
       "      <td>QS1, QS2, QS4a, QS4b, QS8</td>\n",
       "      <td>Quiet Sun</td>\n",
       "    </tr>\n",
       "    <tr>\n",
       "      <th>2</th>\n",
       "      <td>OB_09052022_002200</td>\n",
       "      <td>CALIB_1</td>\n",
       "      <td>09/05/2022</td>\n",
       "      <td>22:14:00</td>\n",
       "      <td>09/05/2022</td>\n",
       "      <td>22:44:00</td>\n",
       "      <td>NaN</td>\n",
       "      <td>NaN</td>\n",
       "      <td>CAL1</td>\n",
       "      <td>Calibration</td>\n",
       "    </tr>\n",
       "    <tr>\n",
       "      <th>3</th>\n",
       "      <td>OB_09052022_002200</td>\n",
       "      <td>QSDC_2</td>\n",
       "      <td>09/05/2022</td>\n",
       "      <td>22:14:00</td>\n",
       "      <td>10/05/2022</td>\n",
       "      <td>03:01:00</td>\n",
       "      <td>212.0</td>\n",
       "      <td>-427.0</td>\n",
       "      <td>QS6, QS3, QS5a</td>\n",
       "      <td>Quiet Sun</td>\n",
       "    </tr>\n",
       "    <tr>\n",
       "      <th>4</th>\n",
       "      <td>OB_10052022_000300</td>\n",
       "      <td>CALIB_1</td>\n",
       "      <td>10/05/2022</td>\n",
       "      <td>03:06:00</td>\n",
       "      <td>10/05/2022</td>\n",
       "      <td>03:36:00</td>\n",
       "      <td>NaN</td>\n",
       "      <td>NaN</td>\n",
       "      <td>CAL1</td>\n",
       "      <td>Calibration</td>\n",
       "    </tr>\n",
       "    <tr>\n",
       "      <th>...</th>\n",
       "      <td>...</td>\n",
       "      <td>...</td>\n",
       "      <td>...</td>\n",
       "      <td>...</td>\n",
       "      <td>...</td>\n",
       "      <td>...</td>\n",
       "      <td>...</td>\n",
       "      <td>...</td>\n",
       "      <td>...</td>\n",
       "      <td>...</td>\n",
       "    </tr>\n",
       "    <tr>\n",
       "      <th>128</th>\n",
       "      <td>OB_13052022_002300</td>\n",
       "      <td>QSDC_1</td>\n",
       "      <td>13/05/2022</td>\n",
       "      <td>23:56:00</td>\n",
       "      <td>14/05/2022</td>\n",
       "      <td>06:00:00</td>\n",
       "      <td>-524.0</td>\n",
       "      <td>-238.0</td>\n",
       "      <td>QS1, QS2, QS4a, QS4b, QS8</td>\n",
       "      <td>Quiet Sun</td>\n",
       "    </tr>\n",
       "    <tr>\n",
       "      <th>129</th>\n",
       "      <td>OB_14052022_000600</td>\n",
       "      <td>CALIB_1</td>\n",
       "      <td>14/05/2022</td>\n",
       "      <td>06:05:00</td>\n",
       "      <td>14/05/2022</td>\n",
       "      <td>06:35:00</td>\n",
       "      <td>NaN</td>\n",
       "      <td>NaN</td>\n",
       "      <td>CAL1</td>\n",
       "      <td>Calibration</td>\n",
       "    </tr>\n",
       "    <tr>\n",
       "      <th>130</th>\n",
       "      <td>OB_14052022_000600</td>\n",
       "      <td>QSDC_2</td>\n",
       "      <td>14/05/2022</td>\n",
       "      <td>06:40:00</td>\n",
       "      <td>14/05/2022</td>\n",
       "      <td>11:27:00</td>\n",
       "      <td>456.0</td>\n",
       "      <td>-475.0</td>\n",
       "      <td>QS6, QS3, QS5a</td>\n",
       "      <td>Quiet Sun</td>\n",
       "    </tr>\n",
       "    <tr>\n",
       "      <th>131</th>\n",
       "      <td>OB_14052022_001100</td>\n",
       "      <td>CALIB_1</td>\n",
       "      <td>14/05/2022</td>\n",
       "      <td>11:32:00</td>\n",
       "      <td>14/05/2022</td>\n",
       "      <td>12:02:00</td>\n",
       "      <td>NaN</td>\n",
       "      <td>NaN</td>\n",
       "      <td>CAL1</td>\n",
       "      <td>Calibration</td>\n",
       "    </tr>\n",
       "    <tr>\n",
       "      <th>132</th>\n",
       "      <td>OB_14052022_001200</td>\n",
       "      <td>QSDC_3</td>\n",
       "      <td>14/05/2022</td>\n",
       "      <td>12:07:00</td>\n",
       "      <td>14/05/2022</td>\n",
       "      <td>16:30:00</td>\n",
       "      <td>55.0</td>\n",
       "      <td>-119.0</td>\n",
       "      <td>QS5b, QS7c</td>\n",
       "      <td>Quiet Sun</td>\n",
       "    </tr>\n",
       "  </tbody>\n",
       "</table>\n",
       "<p>133 rows × 10 columns</p>\n",
       "</div>"
      ],
      "text/plain": [
       "                 OBS_ID    BLOCK  START_DATE START_TIME    END_DATE  END_TIME  \\\n",
       "0    OB_09052022_001000  CALIB_0  09/05/2022   10:00:00  09/05/2022  16:00:00   \n",
       "1    OB_09052022_001600   QSDC_1  09/05/2022   16:05:00  09/05/2022  22:09:00   \n",
       "2    OB_09052022_002200  CALIB_1  09/05/2022   22:14:00  09/05/2022  22:44:00   \n",
       "3    OB_09052022_002200   QSDC_2  09/05/2022   22:14:00  10/05/2022  03:01:00   \n",
       "4    OB_10052022_000300  CALIB_1  10/05/2022   03:06:00  10/05/2022  03:36:00   \n",
       "..                  ...      ...         ...        ...         ...       ...   \n",
       "128  OB_13052022_002300   QSDC_1  13/05/2022   23:56:00  14/05/2022  06:00:00   \n",
       "129  OB_14052022_000600  CALIB_1  14/05/2022   06:05:00  14/05/2022  06:35:00   \n",
       "130  OB_14052022_000600   QSDC_2  14/05/2022   06:40:00  14/05/2022  11:27:00   \n",
       "131  OB_14052022_001100  CALIB_1  14/05/2022   11:32:00  14/05/2022  12:02:00   \n",
       "132  OB_14052022_001200   QSDC_3  14/05/2022   12:07:00  14/05/2022  16:30:00   \n",
       "\n",
       "      XCEN   YCEN                  OBS_MODES           ROI  \n",
       "0      NaN    NaN                       CAL0  Comissioning  \n",
       "1    -90.0 -245.0  QS1, QS2, QS4a, QS4b, QS8     Quiet Sun  \n",
       "2      NaN    NaN                       CAL1   Calibration  \n",
       "3    212.0 -427.0             QS6, QS3, QS5a     Quiet Sun  \n",
       "4      NaN    NaN                       CAL1   Calibration  \n",
       "..     ...    ...                        ...           ...  \n",
       "128 -524.0 -238.0  QS1, QS2, QS4a, QS4b, QS8     Quiet Sun  \n",
       "129    NaN    NaN                       CAL1   Calibration  \n",
       "130  456.0 -475.0             QS6, QS3, QS5a     Quiet Sun  \n",
       "131    NaN    NaN                       CAL1   Calibration  \n",
       "132   55.0 -119.0                 QS5b, QS7c     Quiet Sun  \n",
       "\n",
       "[133 rows x 10 columns]"
      ]
     },
     "execution_count": 203,
     "metadata": {},
     "output_type": "execute_result"
    }
   ],
   "source": [
    "Sunrise"
   ]
  },
  {
   "cell_type": "code",
   "execution_count": 80,
   "metadata": {},
   "outputs": [],
   "source": [
    "var_susi[Susi.columns.get_loc('START_DATE')]=datetime.datetime.strftime(new_time,\"%d/%m/%Y\")\n",
    "var_susi[Susi.columns.get_loc('START_TIME')]=datetime.datetime.strftime(new_time,\"%H:%M:%S\")\n"
   ]
  },
  {
   "cell_type": "code",
   "execution_count": 217,
   "metadata": {},
   "outputs": [
    {
     "data": {
      "text/plain": [
       "nan"
      ]
     },
     "execution_count": 217,
     "metadata": {},
     "output_type": "execute_result"
    }
   ],
   "source": [
    "timeline.loc[ll,['COMMENT']][0]"
   ]
  },
  {
   "cell_type": "code",
   "execution_count": 178,
   "metadata": {},
   "outputs": [
    {
     "data": {
      "text/plain": [
       "48"
      ]
     },
     "execution_count": 178,
     "metadata": {},
     "output_type": "execute_result"
    }
   ],
   "source": [
    "timeline.shape[0]"
   ]
  },
  {
   "cell_type": "markdown",
   "metadata": {},
   "source": []
  },
  {
   "cell_type": "code",
   "execution_count": 56,
   "metadata": {},
   "outputs": [
    {
     "name": "stdout",
     "output_type": "stream",
     "text": [
      "07/04/2022T06:35:00 07/04/2022T06:05:00\n"
     ]
    }
   ],
   "source": [
    "s_time=np.array(timeline.loc[ll,['START_DATE','START_TIME']])\n",
    "\n",
    "current_time= datetime.datetime(year=int(s_time[0][6:]),month=int(s_time[0][0:2]),day=int(s_time[0][3:5]),\n",
    "         hour=int(s_time[1][:2]),minute=int(s_time[1][3:5]),second=int(s_time[1][6:]))\n",
    "\n",
    "delta_time = datetime.timedelta(minutes=30)\n",
    "\n",
    "new_time=current_time+delta_time\n",
    "\n",
    "print(datetime.datetime.strftime(new_time,\"%d/%m/%YT%H:%M:%S\"),\n",
    "datetime.datetime.strftime(current_time,\"%d/%m/%YT%H:%M:%S\")\n",
    ")"
   ]
  },
  {
   "cell_type": "code",
   "execution_count": null,
   "metadata": {},
   "outputs": [],
   "source": []
  },
  {
   "cell_type": "code",
   "execution_count": null,
   "metadata": {},
   "outputs": [
    {
     "data": {
      "text/plain": [
       "'QSDC_1'"
      ]
     },
     "execution_count": 12,
     "metadata": {},
     "output_type": "execute_result"
    }
   ],
   "source": [
    "timeline['Block'][]"
   ]
  },
  {
   "cell_type": "code",
   "execution_count": 85,
   "metadata": {},
   "outputs": [],
   "source": []
  },
  {
   "cell_type": "code",
   "execution_count": 86,
   "metadata": {},
   "outputs": [
    {
     "ename": "ValueError",
     "evalue": "cannot set a row with mismatched columns",
     "output_type": "error",
     "traceback": [
      "\u001b[0;31m---------------------------------------------------------------------------\u001b[0m",
      "\u001b[0;31mValueError\u001b[0m                                Traceback (most recent call last)",
      "\u001b[0;32m<ipython-input-86-b92f8b032f8f>\u001b[0m in \u001b[0;36m<module>\u001b[0;34m\u001b[0m\n\u001b[0;32m----> 1\u001b[0;31m \u001b[0mSusi\u001b[0m\u001b[0;34m,\u001b[0m \u001b[0mcurrent_time\u001b[0m\u001b[0;34m=\u001b[0m \u001b[0madd_var\u001b[0m\u001b[0;34m(\u001b[0m\u001b[0mvar_susi\u001b[0m\u001b[0;34m,\u001b[0m\u001b[0mobs_mode\u001b[0m\u001b[0;34m,\u001b[0m\u001b[0mmodes\u001b[0m\u001b[0;34m,\u001b[0m\u001b[0mcurrent_time\u001b[0m\u001b[0;34m,\u001b[0m\u001b[0mSusi\u001b[0m\u001b[0;34m)\u001b[0m\u001b[0;34m\u001b[0m\u001b[0;34m\u001b[0m\u001b[0m\n\u001b[0m",
      "\u001b[0;32m<ipython-input-85-8e3bf19a8ba9>\u001b[0m in \u001b[0;36madd_var\u001b[0;34m(var_slit, obs_mode, modes, current_time, Slit_inst)\u001b[0m\n\u001b[1;32m     16\u001b[0m   \u001b[0mvar_slit\u001b[0m\u001b[0;34m[\u001b[0m\u001b[0mSlit_inst\u001b[0m\u001b[0;34m.\u001b[0m\u001b[0mcolumns\u001b[0m\u001b[0;34m.\u001b[0m\u001b[0mget_loc\u001b[0m\u001b[0;34m(\u001b[0m\u001b[0;34m'END_TIME'\u001b[0m\u001b[0;34m)\u001b[0m\u001b[0;34m]\u001b[0m\u001b[0;34m=\u001b[0m\u001b[0mdatetime\u001b[0m\u001b[0;34m.\u001b[0m\u001b[0mdatetime\u001b[0m\u001b[0;34m.\u001b[0m\u001b[0mstrftime\u001b[0m\u001b[0;34m(\u001b[0m\u001b[0mcurrent_time\u001b[0m\u001b[0;34m,\u001b[0m\u001b[0;34m\"%H:%M:%S\"\u001b[0m\u001b[0;34m)\u001b[0m\u001b[0;34m\u001b[0m\u001b[0;34m\u001b[0m\u001b[0m\n\u001b[1;32m     17\u001b[0m \u001b[0;34m\u001b[0m\u001b[0m\n\u001b[0;32m---> 18\u001b[0;31m   \u001b[0mSlit_inst\u001b[0m\u001b[0;34m.\u001b[0m\u001b[0mloc\u001b[0m\u001b[0;34m[\u001b[0m\u001b[0mlen\u001b[0m\u001b[0;34m(\u001b[0m\u001b[0mSlit_inst\u001b[0m\u001b[0;34m)\u001b[0m\u001b[0;34m]\u001b[0m\u001b[0;34m=\u001b[0m\u001b[0mvar_slit\u001b[0m\u001b[0;34m\u001b[0m\u001b[0;34m\u001b[0m\u001b[0m\n\u001b[0m\u001b[1;32m     19\u001b[0m   \u001b[0;32mreturn\u001b[0m \u001b[0mSlit_inst\u001b[0m\u001b[0;34m,\u001b[0m\u001b[0mcurrent_time\u001b[0m\u001b[0;34m\u001b[0m\u001b[0;34m\u001b[0m\u001b[0m\n",
      "\u001b[0;32m~/opt/anaconda3/lib/python3.8/site-packages/pandas/core/indexing.py\u001b[0m in \u001b[0;36m__setitem__\u001b[0;34m(self, key, value)\u001b[0m\n\u001b[1;32m    669\u001b[0m             \u001b[0mkey\u001b[0m \u001b[0;34m=\u001b[0m \u001b[0mcom\u001b[0m\u001b[0;34m.\u001b[0m\u001b[0mapply_if_callable\u001b[0m\u001b[0;34m(\u001b[0m\u001b[0mkey\u001b[0m\u001b[0;34m,\u001b[0m \u001b[0mself\u001b[0m\u001b[0;34m.\u001b[0m\u001b[0mobj\u001b[0m\u001b[0;34m)\u001b[0m\u001b[0;34m\u001b[0m\u001b[0;34m\u001b[0m\u001b[0m\n\u001b[1;32m    670\u001b[0m         \u001b[0mindexer\u001b[0m \u001b[0;34m=\u001b[0m \u001b[0mself\u001b[0m\u001b[0;34m.\u001b[0m\u001b[0m_get_setitem_indexer\u001b[0m\u001b[0;34m(\u001b[0m\u001b[0mkey\u001b[0m\u001b[0;34m)\u001b[0m\u001b[0;34m\u001b[0m\u001b[0;34m\u001b[0m\u001b[0m\n\u001b[0;32m--> 671\u001b[0;31m         \u001b[0mself\u001b[0m\u001b[0;34m.\u001b[0m\u001b[0m_setitem_with_indexer\u001b[0m\u001b[0;34m(\u001b[0m\u001b[0mindexer\u001b[0m\u001b[0;34m,\u001b[0m \u001b[0mvalue\u001b[0m\u001b[0;34m)\u001b[0m\u001b[0;34m\u001b[0m\u001b[0;34m\u001b[0m\u001b[0m\n\u001b[0m\u001b[1;32m    672\u001b[0m \u001b[0;34m\u001b[0m\u001b[0m\n\u001b[1;32m    673\u001b[0m     \u001b[0;32mdef\u001b[0m \u001b[0m_validate_key\u001b[0m\u001b[0;34m(\u001b[0m\u001b[0mself\u001b[0m\u001b[0;34m,\u001b[0m \u001b[0mkey\u001b[0m\u001b[0;34m,\u001b[0m \u001b[0maxis\u001b[0m\u001b[0;34m:\u001b[0m \u001b[0mint\u001b[0m\u001b[0;34m)\u001b[0m\u001b[0;34m:\u001b[0m\u001b[0;34m\u001b[0m\u001b[0;34m\u001b[0m\u001b[0m\n",
      "\u001b[0;32m~/opt/anaconda3/lib/python3.8/site-packages/pandas/core/indexing.py\u001b[0m in \u001b[0;36m_setitem_with_indexer\u001b[0;34m(self, indexer, value)\u001b[0m\n\u001b[1;32m    873\u001b[0m \u001b[0;34m\u001b[0m\u001b[0m\n\u001b[1;32m    874\u001b[0m             \u001b[0;32mif\u001b[0m \u001b[0mmissing\u001b[0m\u001b[0;34m:\u001b[0m\u001b[0;34m\u001b[0m\u001b[0;34m\u001b[0m\u001b[0m\n\u001b[0;32m--> 875\u001b[0;31m                 \u001b[0;32mreturn\u001b[0m \u001b[0mself\u001b[0m\u001b[0;34m.\u001b[0m\u001b[0m_setitem_with_indexer_missing\u001b[0m\u001b[0;34m(\u001b[0m\u001b[0mindexer\u001b[0m\u001b[0;34m,\u001b[0m \u001b[0mvalue\u001b[0m\u001b[0;34m)\u001b[0m\u001b[0;34m\u001b[0m\u001b[0;34m\u001b[0m\u001b[0m\n\u001b[0m\u001b[1;32m    876\u001b[0m \u001b[0;34m\u001b[0m\u001b[0m\n\u001b[1;32m    877\u001b[0m         \u001b[0;31m# set\u001b[0m\u001b[0;34m\u001b[0m\u001b[0;34m\u001b[0m\u001b[0;34m\u001b[0m\u001b[0m\n",
      "\u001b[0;32m~/opt/anaconda3/lib/python3.8/site-packages/pandas/core/indexing.py\u001b[0m in \u001b[0;36m_setitem_with_indexer_missing\u001b[0;34m(self, indexer, value)\u001b[0m\n\u001b[1;32m   1117\u001b[0m                     \u001b[0;31m# must have conforming columns\u001b[0m\u001b[0;34m\u001b[0m\u001b[0;34m\u001b[0m\u001b[0;34m\u001b[0m\u001b[0m\n\u001b[1;32m   1118\u001b[0m                     \u001b[0;32mif\u001b[0m \u001b[0mlen\u001b[0m\u001b[0;34m(\u001b[0m\u001b[0mvalue\u001b[0m\u001b[0;34m)\u001b[0m \u001b[0;34m!=\u001b[0m \u001b[0mlen\u001b[0m\u001b[0;34m(\u001b[0m\u001b[0mself\u001b[0m\u001b[0;34m.\u001b[0m\u001b[0mobj\u001b[0m\u001b[0;34m.\u001b[0m\u001b[0mcolumns\u001b[0m\u001b[0;34m)\u001b[0m\u001b[0;34m:\u001b[0m\u001b[0;34m\u001b[0m\u001b[0;34m\u001b[0m\u001b[0m\n\u001b[0;32m-> 1119\u001b[0;31m                         \u001b[0;32mraise\u001b[0m \u001b[0mValueError\u001b[0m\u001b[0;34m(\u001b[0m\u001b[0;34m\"cannot set a row with mismatched columns\"\u001b[0m\u001b[0;34m)\u001b[0m\u001b[0;34m\u001b[0m\u001b[0;34m\u001b[0m\u001b[0m\n\u001b[0m\u001b[1;32m   1120\u001b[0m \u001b[0;34m\u001b[0m\u001b[0m\n\u001b[1;32m   1121\u001b[0m                 \u001b[0mvalue\u001b[0m \u001b[0;34m=\u001b[0m \u001b[0mSeries\u001b[0m\u001b[0;34m(\u001b[0m\u001b[0mvalue\u001b[0m\u001b[0;34m,\u001b[0m \u001b[0mindex\u001b[0m\u001b[0;34m=\u001b[0m\u001b[0mself\u001b[0m\u001b[0;34m.\u001b[0m\u001b[0mobj\u001b[0m\u001b[0;34m.\u001b[0m\u001b[0mcolumns\u001b[0m\u001b[0;34m,\u001b[0m \u001b[0mname\u001b[0m\u001b[0;34m=\u001b[0m\u001b[0mindexer\u001b[0m\u001b[0;34m)\u001b[0m\u001b[0;34m\u001b[0m\u001b[0;34m\u001b[0m\u001b[0m\n",
      "\u001b[0;31mValueError\u001b[0m: cannot set a row with mismatched columns"
     ]
    }
   ],
   "source": [
    "Susi, current_time= add_var(var_susi,obs_mode,modes,current_time,Susi)"
   ]
  },
  {
   "cell_type": "code",
   "execution_count": null,
   "metadata": {},
   "outputs": [],
   "source": []
  }
 ],
 "metadata": {
  "interpreter": {
   "hash": "31f2aee4e71d21fbe5cf8b01ff0e069b9275f58929596ceb00d14d90e3e16cd6"
  },
  "kernelspec": {
   "display_name": "Python 3.8.9 64-bit",
   "language": "python",
   "name": "python3"
  },
  "language_info": {
   "codemirror_mode": {
    "name": "ipython",
    "version": 3
   },
   "file_extension": ".py",
   "mimetype": "text/x-python",
   "name": "python",
   "nbconvert_exporter": "python",
   "pygments_lexer": "ipython3",
   "version": "3.8.3"
  },
  "orig_nbformat": 4
 },
 "nbformat": 4,
 "nbformat_minor": 2
}
